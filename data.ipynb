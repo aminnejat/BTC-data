{
  "nbformat": 4,
  "nbformat_minor": 0,
  "metadata": {
    "colab": {
      "name": "data.ipynb",
      "provenance": [],
      "authorship_tag": "ABX9TyNnVy41duZ/BY19tWFN5yy2",
      "include_colab_link": true
    },
    "kernelspec": {
      "name": "python3",
      "display_name": "Python 3"
    },
    "language_info": {
      "name": "python"
    }
  },
  "cells": [
    {
      "cell_type": "markdown",
      "metadata": {
        "id": "view-in-github",
        "colab_type": "text"
      },
      "source": [
        "<a href=\"https://colab.research.google.com/github/aminnejat/BTC-data/blob/main/data.ipynb\" target=\"_parent\"><img src=\"https://colab.research.google.com/assets/colab-badge.svg\" alt=\"Open In Colab\"/></a>"
      ]
    },
    {
      "cell_type": "code",
      "execution_count": null,
      "metadata": {
        "id": "XPw2rzUYt7hu"
      },
      "outputs": [],
      "source": [
        "import pandas as pd\n",
        "from functools import wraps\n",
        "import threading\n",
        "import time\n",
        "\n",
        "class tables:\n",
        "    def __init__(self) -> None:\n",
        "        pass\n",
        "\n",
        "    @staticmethod\n",
        "    def create_table(data =[]):\n",
        "        \"\"\"Creates a data frame with a list including the columns names as input \"\"\"\n",
        "        import pandas as pd\n",
        "        if type(data) == list:\n",
        "            df = pd.DataFrame(columns = data)\n",
        "        elif type(data) == dict:\n",
        "            df = pd.DataFrame.from_dict(data)\n",
        "        else:\n",
        "            raise TypeError(\"Input data type is not acceptable, only 'list' and 'dict' types are acceptable\")\n",
        "        return df\n",
        "\n",
        "    def continuous_data_collector(func):\n",
        "        @wraps(func)\n",
        "        def wrapper(self, freq, periods):\n",
        "            df = pd.DataFrame()\n",
        "            for _ in range(periods):\n",
        "                # df = pd.concat(df , func(limit, freq, periods))\n",
        "                func(self, freq, periods)\n",
        "                print('mahtab')\n",
        "                time.sleep(freq)\n",
        "            return df\n",
        "\n",
        "        return wrapper"
      ]
    },
    {
      "cell_type": "code",
      "source": [
        ""
      ],
      "metadata": {
        "id": "aIO6md4BuNVR"
      },
      "execution_count": null,
      "outputs": []
    }
  ]
}